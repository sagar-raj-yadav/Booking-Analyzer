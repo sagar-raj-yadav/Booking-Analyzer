{
 "cells": [
  {
   "cell_type": "code",
   "execution_count": null,
   "metadata": {
    "vscode": {
     "languageId": "plaintext"
    }
   },
   "outputs": [],
   "source": [
    "#steps to create a project on data analysis\n",
    "i.analyse the problem statement\n",
    "ii.identify the data you want to analyze\n",
    "iii.clean the dataset(like removing null values)\n",
    "iv.analyse the data to get useful insights  (solve the prolem)\n",
    "v.present the report in dashboard using visualization\n",
    "\n",
    "NOTE->what is EDA?"
   ]
  },
  {
   "cell_type": "code",
   "execution_count": null,
   "metadata": {
    "vscode": {
     "languageId": "plaintext"
    }
   },
   "outputs": [],
   "source": [
    "# Business problem statement\n",
    "In English->\n",
    "In recent years, City Hotel and Resort Hotel have seen high cancellation rates. \n",
    "Each hotel is now dealing with a number of issues as a result, including fewer \n",
    "revenues and less than ideal hotel room use. Consequently, lowering cancellation\n",
    "rates is both hotels, primary goal in order to increase revenue generation, and \n",
    "for us to offer thorough business advice to address this problem.\n",
    "\n",
    "The analysis of hotel booking cancellations as well as other factors that have no bearing on\n",
    "their business or yearly revenue ,offering detailed business recommendations to address these \n",
    "issues and drive growth\n",
    "\n",
    "In Hindi->\n",
    "i.client ka ek hotel h.\n",
    "ii.client humare paas aata h and hume batata hai ki humara hotel ka \n",
    "cancellation rate bahut high ho gya h and hume hotel ke maintainance pe \n",
    "bahut kharch ho rha h.\n",
    "iii.client data analyst ko bolega ki hume analyse karke batao ki problem kha hai ,\n",
    "taki hum unn problem ko solve kare and cancelation rate reduce or zero ho jaye. \n",
    "iv.Iska maksad hai detailed business recommendations dena jo in issues ko solve \n",
    "karein aur growth ko promote karein."
   ]
  },
  {
   "cell_type": "code",
   "execution_count": null,
   "metadata": {
    "vscode": {
     "languageId": "plaintext"
    }
   },
   "outputs": [],
   "source": [
    "#Assumptions\n",
    "i.their is no outlier in my dataset\n",
    "ii."
   ]
  },
  {
   "cell_type": "code",
   "execution_count": null,
   "metadata": {
    "vscode": {
     "languageId": "plaintext"
    }
   },
   "outputs": [],
   "source": [
    "#Research question \n",
    "i.what are the variables that affects hotel reservation cancellation?\n",
    "ii.How can we make hotel cancellation better?\n",
    "iii.How will hotels be assisted in making pricing and promotional decisions?\n",
    "\n",
    "In Hindi->\n",
    "\n",
    "i. Kaun-se variables hotel reservation cancellation ko affect karte hain?\n",
    "ii. Hum hotel cancellations ko kaise better bana sakte hain?\n",
    "iii. Hotels ko pricing aur promotional decisions lene mein kaise madad ki jaa sakti hai?\n",
    "Iss analysis se hotels ko apni pricing strategies aur promotions ko optimize karne ka mauka milta hai, \n",
    "jisse wo zyada customers ko attract kar sakte hain aur cancellations ko reduce kar sakte hain."
   ]
  },
  {
   "cell_type": "code",
   "execution_count": null,
   "metadata": {
    "vscode": {
     "languageId": "plaintext"
    }
   },
   "outputs": [],
   "source": [
    "#Hypothesis \n",
    "Based on my research question , we make some hypothesis.\n",
    "\n",
    "i.More cancellation occur when prices are higher.\n",
    "ii.when their is onger waiting list,customer tend to cancel more frequently.\n",
    "iii.The majority clients are  coming from offline travel agents to make their reservations.\n"
   ]
  },
  {
   "cell_type": "code",
   "execution_count": null,
   "metadata": {
    "vscode": {
     "languageId": "plaintext"
    }
   },
   "outputs": [],
   "source": []
  }
 ],
 "metadata": {
  "language_info": {
   "name": "python"
  }
 },
 "nbformat": 4,
 "nbformat_minor": 2
}
