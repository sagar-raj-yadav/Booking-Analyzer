{
 "cells": [
  {
   "cell_type": "code",
   "execution_count": null,
   "metadata": {
    "vscode": {
     "languageId": "plaintext"
    }
   },
   "outputs": [],
   "source": [
    "# Business problem statement\n",
    "i.client ka ek hotel h.\n",
    "ii.client humare paas aata h and hume batata hai ki humara hotel ka \n",
    "cancellation rate bahut high ho gya h.\n",
    "iii.client data analyst ko bolega ki hume analyse karke batao ki problem kha hai ,\n",
    "taki hum unn problem ko solve kare and cancelation rate reduce or zero ho jaye. "
   ]
  }
 ],
 "metadata": {
  "language_info": {
   "name": "python"
  }
 },
 "nbformat": 4,
 "nbformat_minor": 2
}
