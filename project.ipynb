{
 "cells": [
  {
   "cell_type": "code",
   "execution_count": null,
   "metadata": {
    "vscode": {
     "languageId": "plaintext"
    }
   },
   "outputs": [],
   "source": [
    "#steps to create a project on data analysis\n",
    "i.analyse the problem statement\n",
    "ii.identify the data you want to analyze\n",
    "iii.clean the dataset(like removing null values)\n",
    "iv.analyse the data to get useful insights  (solve the prolem)\n",
    "v.present the report in dashboard using visualization"
   ]
  },
  {
   "cell_type": "code",
   "execution_count": null,
   "metadata": {
    "vscode": {
     "languageId": "plaintext"
    }
   },
   "outputs": [],
   "source": [
    "# Business problem statement\n",
    "In English->\n",
    "In recent years, City Hotel and Resort Hotel have seen high cancellation rates. \n",
    "Each hotel is now dealing with a number of issues as a result, including fewer \n",
    "revenues and less than ideal hotel room use. Consequently, lowering cancellation\n",
    "rates is both hotels, primary goal in order to increase revenue generation, and \n",
    "for us to offer thorough business advice to address this problem.\n",
    "\n",
    "The analysis of hotel booking cancellations as well as other factors that have no bearing on\n",
    "their business or yearly revenue ,offering detailed business recommendations to address these \n",
    "issues and drive growth\n",
    "\n",
    "In Hindi->\n",
    "i.client ka ek hotel h.\n",
    "ii.client humare paas aata h and hume batata hai ki humara hotel ka \n",
    "cancellation rate bahut high ho gya h.\n",
    "iii.client data analyst ko bolega ki hume analyse karke batao ki problem kha hai ,\n",
    "taki hum unn problem ko solve kare and cancelation rate reduce or zero ho jaye. \n",
    "iv.Iska maksad hai detailed business recommendations dena jo in issues ko solve \n",
    "karein aur growth ko promote karein."
   ]
  }
 ],
 "metadata": {
  "language_info": {
   "name": "python"
  }
 },
 "nbformat": 4,
 "nbformat_minor": 2
}
